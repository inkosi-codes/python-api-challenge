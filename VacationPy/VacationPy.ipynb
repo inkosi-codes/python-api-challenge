{
 "metadata": {
  "language_info": {
   "codemirror_mode": {
    "name": "ipython",
    "version": 3
   },
   "file_extension": ".py",
   "mimetype": "text/x-python",
   "name": "python",
   "nbconvert_exporter": "python",
   "pygments_lexer": "ipython3",
   "version": "3.8.3-final"
  },
  "orig_nbformat": 2,
  "kernelspec": {
   "name": "python3",
   "display_name": "Python 3"
  }
 },
 "nbformat": 4,
 "nbformat_minor": 2,
 "cells": [
  {
   "cell_type": "code",
   "execution_count": 72,
   "metadata": {},
   "outputs": [],
   "source": [
    "# Dependencies and Setup\n",
    "import matplotlib.pyplot as plt\n",
    "import pandas as pd\n",
    "import gmaps\n",
    "import requests as rq\n",
    "\n",
    "# Import API key\n",
    "import config\n",
    "\n",
    "# Configure gmaps\n",
    "gkey = config.gkey\n",
    "gmaps.configure(api_key=gkey)"
   ]
  },
  {
   "cell_type": "code",
   "execution_count": 73,
   "metadata": {},
   "outputs": [
    {
     "output_type": "execute_result",
     "data": {
      "text/plain": [
       "          City  City Latitude  City Longitude  Max Temperature  Humidity  \\\n",
       "0       Torbay          47.67          -52.73            44.01        74   \n",
       "1     Hermanus         -34.42           19.23            66.00        79   \n",
       "2  Yellowknife          62.46         -114.35             8.60        92   \n",
       "3    Cape Town         -33.93           18.42            75.00        68   \n",
       "4    Grindavik          63.84          -22.43            37.40        86   \n",
       "\n",
       "   Cloud Coverage  Wind Speed City Country        City DateTime  \n",
       "0              75       16.11           CA  2020-11-13 10:41:31  \n",
       "1              91        5.01           ZA  2020-11-13 10:40:52  \n",
       "2              75        8.05           CA  2020-11-13 10:42:21  \n",
       "3               0       17.22           ZA  2020-11-13 10:41:38  \n",
       "4              75       17.22           IS  2020-11-13 10:41:49  "
      ],
      "text/html": "<div>\n<style scoped>\n    .dataframe tbody tr th:only-of-type {\n        vertical-align: middle;\n    }\n\n    .dataframe tbody tr th {\n        vertical-align: top;\n    }\n\n    .dataframe thead th {\n        text-align: right;\n    }\n</style>\n<table border=\"1\" class=\"dataframe\">\n  <thead>\n    <tr style=\"text-align: right;\">\n      <th></th>\n      <th>City</th>\n      <th>City Latitude</th>\n      <th>City Longitude</th>\n      <th>Max Temperature</th>\n      <th>Humidity</th>\n      <th>Cloud Coverage</th>\n      <th>Wind Speed</th>\n      <th>City Country</th>\n      <th>City DateTime</th>\n    </tr>\n  </thead>\n  <tbody>\n    <tr>\n      <th>0</th>\n      <td>Torbay</td>\n      <td>47.67</td>\n      <td>-52.73</td>\n      <td>44.01</td>\n      <td>74</td>\n      <td>75</td>\n      <td>16.11</td>\n      <td>CA</td>\n      <td>2020-11-13 10:41:31</td>\n    </tr>\n    <tr>\n      <th>1</th>\n      <td>Hermanus</td>\n      <td>-34.42</td>\n      <td>19.23</td>\n      <td>66.00</td>\n      <td>79</td>\n      <td>91</td>\n      <td>5.01</td>\n      <td>ZA</td>\n      <td>2020-11-13 10:40:52</td>\n    </tr>\n    <tr>\n      <th>2</th>\n      <td>Yellowknife</td>\n      <td>62.46</td>\n      <td>-114.35</td>\n      <td>8.60</td>\n      <td>92</td>\n      <td>75</td>\n      <td>8.05</td>\n      <td>CA</td>\n      <td>2020-11-13 10:42:21</td>\n    </tr>\n    <tr>\n      <th>3</th>\n      <td>Cape Town</td>\n      <td>-33.93</td>\n      <td>18.42</td>\n      <td>75.00</td>\n      <td>68</td>\n      <td>0</td>\n      <td>17.22</td>\n      <td>ZA</td>\n      <td>2020-11-13 10:41:38</td>\n    </tr>\n    <tr>\n      <th>4</th>\n      <td>Grindavik</td>\n      <td>63.84</td>\n      <td>-22.43</td>\n      <td>37.40</td>\n      <td>86</td>\n      <td>75</td>\n      <td>17.22</td>\n      <td>IS</td>\n      <td>2020-11-13 10:41:49</td>\n    </tr>\n  </tbody>\n</table>\n</div>"
     },
     "metadata": {},
     "execution_count": 73
    }
   ],
   "source": [
    "# Create aiport dataframe\n",
    "cities_df = pd.read_csv('Resources//weather_data.csv')\n",
    "cities_df.dropna(inplace = True) \n",
    "cities_df.head()"
   ]
  },
  {
   "cell_type": "code",
   "execution_count": 74,
   "metadata": {},
   "outputs": [],
   "source": [
    "# Store latitude and longitude in locations\n",
    "locations = cities_df[[\"City Latitude\", \"City Longitude\"]]\n",
    "humidity = cities_df[\"Humidity\"]"
   ]
  },
  {
   "cell_type": "code",
   "execution_count": 75,
   "metadata": {},
   "outputs": [
    {
     "output_type": "display_data",
     "data": {
      "text/plain": "Figure(layout=FigureLayout(height='420px', margin='0 auto 0 auto', width='1050px'))",
      "application/vnd.jupyter.widget-view+json": {
       "version_major": 2,
       "version_minor": 0,
       "model_id": "29bb46ec36e64cf68927652c264d307e"
      }
     },
     "metadata": {}
    }
   ],
   "source": [
    "zero_coor = (33.93,18.42)\n",
    "figure_layout = {'width': '1050px', 'margin': '0 auto 0 auto'}\n",
    "# Plot Heatmap\n",
    "fig = gmaps.figure(center=zero_coor,zoom_level=2,layout=figure_layout,map_type=\"TERRAIN\")\n",
    "\n",
    "# Create heat layer\n",
    "heat_layer = gmaps.heatmap_layer(locations, weights=humidity, \n",
    "                                 dissipating=False, max_intensity=20,\n",
    "                                 point_radius=2.0)\n",
    "\n",
    "# Add layer\n",
    "fig.add_layer(heat_layer)\n",
    "\n",
    "# Display figure\n",
    "fig"
   ]
  },
  {
   "cell_type": "code",
   "execution_count": 82,
   "metadata": {},
   "outputs": [
    {
     "output_type": "execute_result",
     "data": {
      "text/plain": [
       "       City Latitude  City Longitude  Max Temperature   Humidity  \\\n",
       "count      31.000000       31.000000        31.000000  31.000000   \n",
       "mean        6.306452       30.718065        75.080968  59.322581   \n",
       "std        23.168493       80.751593         6.294859  20.695228   \n",
       "min       -34.040000     -151.750000        65.370000  13.000000   \n",
       "25%       -21.245000        4.695000        68.990000  47.000000   \n",
       "50%        17.080000       44.400000        75.990000  60.000000   \n",
       "75%        24.045000       71.125000        78.970000  78.000000   \n",
       "max        34.130000      148.170000        86.200000  94.000000   \n",
       "\n",
       "       Cloud Coverage  Wind Speed  \n",
       "count            31.0   31.000000  \n",
       "mean              0.0    5.754194  \n",
       "std               0.0    2.169582  \n",
       "min               0.0    1.010000  \n",
       "25%               0.0    4.035000  \n",
       "50%               0.0    5.820000  \n",
       "75%               0.0    7.360000  \n",
       "max               0.0    9.190000  "
      ],
      "text/html": "<div>\n<style scoped>\n    .dataframe tbody tr th:only-of-type {\n        vertical-align: middle;\n    }\n\n    .dataframe tbody tr th {\n        vertical-align: top;\n    }\n\n    .dataframe thead th {\n        text-align: right;\n    }\n</style>\n<table border=\"1\" class=\"dataframe\">\n  <thead>\n    <tr style=\"text-align: right;\">\n      <th></th>\n      <th>City Latitude</th>\n      <th>City Longitude</th>\n      <th>Max Temperature</th>\n      <th>Humidity</th>\n      <th>Cloud Coverage</th>\n      <th>Wind Speed</th>\n    </tr>\n  </thead>\n  <tbody>\n    <tr>\n      <th>count</th>\n      <td>31.000000</td>\n      <td>31.000000</td>\n      <td>31.000000</td>\n      <td>31.000000</td>\n      <td>31.0</td>\n      <td>31.000000</td>\n    </tr>\n    <tr>\n      <th>mean</th>\n      <td>6.306452</td>\n      <td>30.718065</td>\n      <td>75.080968</td>\n      <td>59.322581</td>\n      <td>0.0</td>\n      <td>5.754194</td>\n    </tr>\n    <tr>\n      <th>std</th>\n      <td>23.168493</td>\n      <td>80.751593</td>\n      <td>6.294859</td>\n      <td>20.695228</td>\n      <td>0.0</td>\n      <td>2.169582</td>\n    </tr>\n    <tr>\n      <th>min</th>\n      <td>-34.040000</td>\n      <td>-151.750000</td>\n      <td>65.370000</td>\n      <td>13.000000</td>\n      <td>0.0</td>\n      <td>1.010000</td>\n    </tr>\n    <tr>\n      <th>25%</th>\n      <td>-21.245000</td>\n      <td>4.695000</td>\n      <td>68.990000</td>\n      <td>47.000000</td>\n      <td>0.0</td>\n      <td>4.035000</td>\n    </tr>\n    <tr>\n      <th>50%</th>\n      <td>17.080000</td>\n      <td>44.400000</td>\n      <td>75.990000</td>\n      <td>60.000000</td>\n      <td>0.0</td>\n      <td>5.820000</td>\n    </tr>\n    <tr>\n      <th>75%</th>\n      <td>24.045000</td>\n      <td>71.125000</td>\n      <td>78.970000</td>\n      <td>78.000000</td>\n      <td>0.0</td>\n      <td>7.360000</td>\n    </tr>\n    <tr>\n      <th>max</th>\n      <td>34.130000</td>\n      <td>148.170000</td>\n      <td>86.200000</td>\n      <td>94.000000</td>\n      <td>0.0</td>\n      <td>9.190000</td>\n    </tr>\n  </tbody>\n</table>\n</div>"
     },
     "metadata": {},
     "execution_count": 82
    }
   ],
   "source": [
    "filtered_temp_df = cities_df.loc[(cities_df['Max Temperature'] < 90) & (cities_df['Max Temperature'] >= 65) & (cities_df['Wind Speed'] < 10) & (cities_df['Cloud Coverage'] == 0)]\n",
    "filtered_temp_df.describe()"
   ]
  },
  {
   "cell_type": "code",
   "execution_count": 83,
   "metadata": {},
   "outputs": [
    {
     "output_type": "execute_result",
     "data": {
      "text/plain": [
       "               City  City Latitude  City Longitude  Max Temperature  Humidity  \\\n",
       "26   Guerrero Negro          27.98         -114.06            68.18        59   \n",
       "63   Saint-Philippe         -21.36           55.77            77.00        78   \n",
       "69        Porbandar          21.64           69.61            80.08        43   \n",
       "89         Moranbah         -22.00          148.05            71.53        79   \n",
       "111          Najrān          17.49           44.13            75.20        29   \n",
       "\n",
       "     Cloud Coverage  Wind Speed City Country        City DateTime  \n",
       "26                0        8.59           MX  2020-11-13 10:43:14  \n",
       "63                0        3.36           RE  2020-11-13 10:41:48  \n",
       "69                0        9.19           IN  2020-11-13 10:44:48  \n",
       "89                0        7.90           AU  2020-11-13 10:45:34  \n",
       "111               0        3.60           SA  2020-11-13 10:46:24  "
      ],
      "text/html": "<div>\n<style scoped>\n    .dataframe tbody tr th:only-of-type {\n        vertical-align: middle;\n    }\n\n    .dataframe tbody tr th {\n        vertical-align: top;\n    }\n\n    .dataframe thead th {\n        text-align: right;\n    }\n</style>\n<table border=\"1\" class=\"dataframe\">\n  <thead>\n    <tr style=\"text-align: right;\">\n      <th></th>\n      <th>City</th>\n      <th>City Latitude</th>\n      <th>City Longitude</th>\n      <th>Max Temperature</th>\n      <th>Humidity</th>\n      <th>Cloud Coverage</th>\n      <th>Wind Speed</th>\n      <th>City Country</th>\n      <th>City DateTime</th>\n    </tr>\n  </thead>\n  <tbody>\n    <tr>\n      <th>26</th>\n      <td>Guerrero Negro</td>\n      <td>27.98</td>\n      <td>-114.06</td>\n      <td>68.18</td>\n      <td>59</td>\n      <td>0</td>\n      <td>8.59</td>\n      <td>MX</td>\n      <td>2020-11-13 10:43:14</td>\n    </tr>\n    <tr>\n      <th>63</th>\n      <td>Saint-Philippe</td>\n      <td>-21.36</td>\n      <td>55.77</td>\n      <td>77.00</td>\n      <td>78</td>\n      <td>0</td>\n      <td>3.36</td>\n      <td>RE</td>\n      <td>2020-11-13 10:41:48</td>\n    </tr>\n    <tr>\n      <th>69</th>\n      <td>Porbandar</td>\n      <td>21.64</td>\n      <td>69.61</td>\n      <td>80.08</td>\n      <td>43</td>\n      <td>0</td>\n      <td>9.19</td>\n      <td>IN</td>\n      <td>2020-11-13 10:44:48</td>\n    </tr>\n    <tr>\n      <th>89</th>\n      <td>Moranbah</td>\n      <td>-22.00</td>\n      <td>148.05</td>\n      <td>71.53</td>\n      <td>79</td>\n      <td>0</td>\n      <td>7.90</td>\n      <td>AU</td>\n      <td>2020-11-13 10:45:34</td>\n    </tr>\n    <tr>\n      <th>111</th>\n      <td>Najrān</td>\n      <td>17.49</td>\n      <td>44.13</td>\n      <td>75.20</td>\n      <td>29</td>\n      <td>0</td>\n      <td>3.60</td>\n      <td>SA</td>\n      <td>2020-11-13 10:46:24</td>\n    </tr>\n  </tbody>\n</table>\n</div>"
     },
     "metadata": {},
     "execution_count": 83
    }
   ],
   "source": [
    "filtered_temp_df.head()"
   ]
  },
  {
   "cell_type": "code",
   "execution_count": null,
   "metadata": {},
   "outputs": [],
   "source": [
    "for city in filtered_temp_df: \n",
    "    lat = filtered_temp_df.loc[filtered_temp_df['City'] == city,'City Latitude'] \n",
    "    lng = filtered_temp_df.loc[filtered_temp_df['City'] == city, 'City Longitude']  \n",
    "    criteria = \"Hotel\"\n",
    "    coords = (lat, lng)\n",
    "    radius = 5000\n",
    "\n",
    "    params = {\n",
    "    \"location\": coords,\n",
    "    \"keyword\": criteria,\n",
    "    \"radius\": radius,\n",
    "    \"key\": gkey\n",
    "    }\n",
    "    # Build URL using the Google Maps API\n",
    "    base_url = \"https://maps.googleapis.com/maps/api/place/nearbysearch/json\""
   ]
  },
  {
   "cell_type": "code",
   "execution_count": 84,
   "metadata": {},
   "outputs": [
    {
     "output_type": "display_data",
     "data": {
      "text/plain": "Figure(layout=FigureLayout(height='420px', margin='0 auto 0 auto', width='1050px'))",
      "application/vnd.jupyter.widget-view+json": {
       "version_major": 2,
       "version_minor": 0,
       "model_id": "2a725d632a364568b6acfccf2419fb9f"
      }
     },
     "metadata": {}
    }
   ],
   "source": [
    "locations = filtered_temp_df[[\"City Latitude\", \"City Longitude\"]]\n",
    "humidity = filtered_temp_df[\"Humidity\"]\n",
    "\n",
    "# Plot Heatmap\n",
    "fig = gmaps.figure(center=zero_coor,zoom_level=2,layout=figure_layout,map_type=\"TERRAIN\")\n",
    "\n",
    "lat = filtered_temp_df['City Latitude'] \n",
    "lng = filtered_temp_df['City Longitude'] \n",
    "\n",
    "marker = filtered_temp_df[['City Latitude','City Longitude']] \n",
    "\n",
    "# Create heat layer\n",
    "heat_layer = gmaps.heatmap_layer(locations, weights=humidity, \n",
    "                                 dissipating=False, max_intensity=20,\n",
    "                                 point_radius=2.0)\n",
    "\n",
    "# Add layer\n",
    "markers = gmaps.marker_layer(marker)\n",
    "fig.add_layer(markers)\n",
    "fig.add_layer(heat_layer)\n",
    "\n",
    "# Display figure\n",
    "fig"
   ]
  },
  {
   "cell_type": "code",
   "execution_count": null,
   "metadata": {},
   "outputs": [],
   "source": [
    "%reset"
   ]
  },
  {
   "cell_type": "code",
   "execution_count": null,
   "metadata": {},
   "outputs": [],
   "source": []
  }
 ]
}