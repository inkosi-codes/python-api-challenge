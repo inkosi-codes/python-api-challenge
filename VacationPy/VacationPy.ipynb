{
 "metadata": {
  "language_info": {
   "codemirror_mode": {
    "name": "ipython",
    "version": 3
   },
   "file_extension": ".py",
   "mimetype": "text/x-python",
   "name": "python",
   "nbconvert_exporter": "python",
   "pygments_lexer": "ipython3",
   "version": "3.8.3-final"
  },
  "orig_nbformat": 2,
  "kernelspec": {
   "name": "python3",
   "display_name": "Python 3"
  }
 },
 "nbformat": 4,
 "nbformat_minor": 2,
 "cells": [
  {
   "cell_type": "code",
   "execution_count": 1,
   "metadata": {},
   "outputs": [],
   "source": [
    "# Dependencies and Setup\n",
    "import matplotlib.pyplot as plt\n",
    "import pandas as pd\n",
    "import gmaps\n",
    "import requests as rq\n",
    "from pprint import pprint\n",
    "# Import API key\n",
    "import config\n",
    "\n",
    "# Configure gmaps\n",
    "gkey = config.gkey\n",
    "gmaps.configure(api_key=gkey)"
   ]
  },
  {
   "cell_type": "code",
   "execution_count": 2,
   "metadata": {},
   "outputs": [
    {
     "output_type": "execute_result",
     "data": {
      "text/plain": [
       "          City  City Latitude  City Longitude  Max Temperature  Humidity  \\\n",
       "0       Torbay          47.67          -52.73            44.01        74   \n",
       "1     Hermanus         -34.42           19.23            66.00        79   \n",
       "2  Yellowknife          62.46         -114.35             8.60        92   \n",
       "3    Cape Town         -33.93           18.42            75.00        68   \n",
       "4    Grindavik          63.84          -22.43            37.40        86   \n",
       "\n",
       "   Cloud Coverage  Wind Speed City Country        City DateTime  \n",
       "0              75       16.11           CA  2020-11-13 10:41:31  \n",
       "1              91        5.01           ZA  2020-11-13 10:40:52  \n",
       "2              75        8.05           CA  2020-11-13 10:42:21  \n",
       "3               0       17.22           ZA  2020-11-13 10:41:38  \n",
       "4              75       17.22           IS  2020-11-13 10:41:49  "
      ],
      "text/html": "<div>\n<style scoped>\n    .dataframe tbody tr th:only-of-type {\n        vertical-align: middle;\n    }\n\n    .dataframe tbody tr th {\n        vertical-align: top;\n    }\n\n    .dataframe thead th {\n        text-align: right;\n    }\n</style>\n<table border=\"1\" class=\"dataframe\">\n  <thead>\n    <tr style=\"text-align: right;\">\n      <th></th>\n      <th>City</th>\n      <th>City Latitude</th>\n      <th>City Longitude</th>\n      <th>Max Temperature</th>\n      <th>Humidity</th>\n      <th>Cloud Coverage</th>\n      <th>Wind Speed</th>\n      <th>City Country</th>\n      <th>City DateTime</th>\n    </tr>\n  </thead>\n  <tbody>\n    <tr>\n      <th>0</th>\n      <td>Torbay</td>\n      <td>47.67</td>\n      <td>-52.73</td>\n      <td>44.01</td>\n      <td>74</td>\n      <td>75</td>\n      <td>16.11</td>\n      <td>CA</td>\n      <td>2020-11-13 10:41:31</td>\n    </tr>\n    <tr>\n      <th>1</th>\n      <td>Hermanus</td>\n      <td>-34.42</td>\n      <td>19.23</td>\n      <td>66.00</td>\n      <td>79</td>\n      <td>91</td>\n      <td>5.01</td>\n      <td>ZA</td>\n      <td>2020-11-13 10:40:52</td>\n    </tr>\n    <tr>\n      <th>2</th>\n      <td>Yellowknife</td>\n      <td>62.46</td>\n      <td>-114.35</td>\n      <td>8.60</td>\n      <td>92</td>\n      <td>75</td>\n      <td>8.05</td>\n      <td>CA</td>\n      <td>2020-11-13 10:42:21</td>\n    </tr>\n    <tr>\n      <th>3</th>\n      <td>Cape Town</td>\n      <td>-33.93</td>\n      <td>18.42</td>\n      <td>75.00</td>\n      <td>68</td>\n      <td>0</td>\n      <td>17.22</td>\n      <td>ZA</td>\n      <td>2020-11-13 10:41:38</td>\n    </tr>\n    <tr>\n      <th>4</th>\n      <td>Grindavik</td>\n      <td>63.84</td>\n      <td>-22.43</td>\n      <td>37.40</td>\n      <td>86</td>\n      <td>75</td>\n      <td>17.22</td>\n      <td>IS</td>\n      <td>2020-11-13 10:41:49</td>\n    </tr>\n  </tbody>\n</table>\n</div>"
     },
     "metadata": {},
     "execution_count": 2
    }
   ],
   "source": [
    "# Create dataframe to store city data from csv\n",
    "cities_df = pd.read_csv('Resources//weather_data.csv')\n",
    "cities_df.dropna(inplace = True) \n",
    "cities_df.head()"
   ]
  },
  {
   "cell_type": "code",
   "execution_count": 3,
   "metadata": {},
   "outputs": [],
   "source": [
    "# Store latitude and longitude in locations\n",
    "locations = cities_df[[\"City Latitude\", \"City Longitude\"]]\n",
    "humidity = cities_df[\"Humidity\"]"
   ]
  },
  {
   "cell_type": "code",
   "execution_count": 4,
   "metadata": {},
   "outputs": [
    {
     "output_type": "display_data",
     "data": {
      "text/plain": "Figure(layout=FigureLayout(height='420px', margin='0 auto 0 auto', width='1050px'))",
      "application/vnd.jupyter.widget-view+json": {
       "version_major": 2,
       "version_minor": 0,
       "model_id": "b81f5a7c422f4005acd135abe9f3f11f"
      }
     },
     "metadata": {}
    }
   ],
   "source": [
    "# Used for a point on the map to zoom into and format layout\n",
    "zero_coor = (33.93,18.42)\n",
    "figure_layout = {'width': '1050px', 'margin': '0 auto 0 auto'}\n",
    "# Plot Heatmap\n",
    "fig = gmaps.figure(center=zero_coor,zoom_level=2,layout=figure_layout,map_type=\"TERRAIN\")\n",
    "\n",
    "# Create heat layer\n",
    "heat_layer = gmaps.heatmap_layer(locations, weights=humidity,max_intensity=.95)\n",
    "\n",
    "# Add layer\n",
    "fig.add_layer(heat_layer)\n",
    "\n",
    "# Display figure\n",
    "fig"
   ]
  },
  {
   "cell_type": "code",
   "execution_count": 5,
   "metadata": {},
   "outputs": [
    {
     "output_type": "execute_result",
     "data": {
      "text/plain": [
       "       City Latitude  City Longitude  Max Temperature   Humidity  \\\n",
       "count      31.000000       31.000000        31.000000  31.000000   \n",
       "mean        6.306452       30.718065        75.080968  59.322581   \n",
       "std        23.168493       80.751593         6.294859  20.695228   \n",
       "min       -34.040000     -151.750000        65.370000  13.000000   \n",
       "25%       -21.245000        4.695000        68.990000  47.000000   \n",
       "50%        17.080000       44.400000        75.990000  60.000000   \n",
       "75%        24.045000       71.125000        78.970000  78.000000   \n",
       "max        34.130000      148.170000        86.200000  94.000000   \n",
       "\n",
       "       Cloud Coverage  Wind Speed  \n",
       "count            31.0   31.000000  \n",
       "mean              0.0    5.754194  \n",
       "std               0.0    2.169582  \n",
       "min               0.0    1.010000  \n",
       "25%               0.0    4.035000  \n",
       "50%               0.0    5.820000  \n",
       "75%               0.0    7.360000  \n",
       "max               0.0    9.190000  "
      ],
      "text/html": "<div>\n<style scoped>\n    .dataframe tbody tr th:only-of-type {\n        vertical-align: middle;\n    }\n\n    .dataframe tbody tr th {\n        vertical-align: top;\n    }\n\n    .dataframe thead th {\n        text-align: right;\n    }\n</style>\n<table border=\"1\" class=\"dataframe\">\n  <thead>\n    <tr style=\"text-align: right;\">\n      <th></th>\n      <th>City Latitude</th>\n      <th>City Longitude</th>\n      <th>Max Temperature</th>\n      <th>Humidity</th>\n      <th>Cloud Coverage</th>\n      <th>Wind Speed</th>\n    </tr>\n  </thead>\n  <tbody>\n    <tr>\n      <th>count</th>\n      <td>31.000000</td>\n      <td>31.000000</td>\n      <td>31.000000</td>\n      <td>31.000000</td>\n      <td>31.0</td>\n      <td>31.000000</td>\n    </tr>\n    <tr>\n      <th>mean</th>\n      <td>6.306452</td>\n      <td>30.718065</td>\n      <td>75.080968</td>\n      <td>59.322581</td>\n      <td>0.0</td>\n      <td>5.754194</td>\n    </tr>\n    <tr>\n      <th>std</th>\n      <td>23.168493</td>\n      <td>80.751593</td>\n      <td>6.294859</td>\n      <td>20.695228</td>\n      <td>0.0</td>\n      <td>2.169582</td>\n    </tr>\n    <tr>\n      <th>min</th>\n      <td>-34.040000</td>\n      <td>-151.750000</td>\n      <td>65.370000</td>\n      <td>13.000000</td>\n      <td>0.0</td>\n      <td>1.010000</td>\n    </tr>\n    <tr>\n      <th>25%</th>\n      <td>-21.245000</td>\n      <td>4.695000</td>\n      <td>68.990000</td>\n      <td>47.000000</td>\n      <td>0.0</td>\n      <td>4.035000</td>\n    </tr>\n    <tr>\n      <th>50%</th>\n      <td>17.080000</td>\n      <td>44.400000</td>\n      <td>75.990000</td>\n      <td>60.000000</td>\n      <td>0.0</td>\n      <td>5.820000</td>\n    </tr>\n    <tr>\n      <th>75%</th>\n      <td>24.045000</td>\n      <td>71.125000</td>\n      <td>78.970000</td>\n      <td>78.000000</td>\n      <td>0.0</td>\n      <td>7.360000</td>\n    </tr>\n    <tr>\n      <th>max</th>\n      <td>34.130000</td>\n      <td>148.170000</td>\n      <td>86.200000</td>\n      <td>94.000000</td>\n      <td>0.0</td>\n      <td>9.190000</td>\n    </tr>\n  </tbody>\n</table>\n</div>"
     },
     "metadata": {},
     "execution_count": 5
    }
   ],
   "source": [
    "# Filter down dataframe based on unique selection\n",
    "filtered_temp_df = cities_df.loc[(cities_df['Max Temperature'] < 90) & (cities_df['Max Temperature'] >= 65) & (cities_df['Wind Speed'] < 10) & (cities_df['Cloud Coverage'] == 0)]\n",
    "filtered_temp_df.describe()"
   ]
  },
  {
   "cell_type": "code",
   "execution_count": 6,
   "metadata": {},
   "outputs": [
    {
     "output_type": "execute_result",
     "data": {
      "text/plain": [
       "               City  City Latitude  City Longitude  Max Temperature  Humidity  \\\n",
       "26   Guerrero Negro          27.98         -114.06            68.18        59   \n",
       "63   Saint-Philippe         -21.36           55.77            77.00        78   \n",
       "69        Porbandar          21.64           69.61            80.08        43   \n",
       "89         Moranbah         -22.00          148.05            71.53        79   \n",
       "111          Najrān          17.49           44.13            75.20        29   \n",
       "\n",
       "     Cloud Coverage  Wind Speed City Country        City DateTime Hotel Name  \\\n",
       "26                0        8.59           MX  2020-11-13 10:43:14              \n",
       "63                0        3.36           RE  2020-11-13 10:41:48              \n",
       "69                0        9.19           IN  2020-11-13 10:44:48              \n",
       "89                0        7.90           AU  2020-11-13 10:45:34              \n",
       "111               0        3.60           SA  2020-11-13 10:46:24              \n",
       "\n",
       "    Hotel Rating  \n",
       "26                \n",
       "63                \n",
       "69                \n",
       "89                \n",
       "111               "
      ],
      "text/html": "<div>\n<style scoped>\n    .dataframe tbody tr th:only-of-type {\n        vertical-align: middle;\n    }\n\n    .dataframe tbody tr th {\n        vertical-align: top;\n    }\n\n    .dataframe thead th {\n        text-align: right;\n    }\n</style>\n<table border=\"1\" class=\"dataframe\">\n  <thead>\n    <tr style=\"text-align: right;\">\n      <th></th>\n      <th>City</th>\n      <th>City Latitude</th>\n      <th>City Longitude</th>\n      <th>Max Temperature</th>\n      <th>Humidity</th>\n      <th>Cloud Coverage</th>\n      <th>Wind Speed</th>\n      <th>City Country</th>\n      <th>City DateTime</th>\n      <th>Hotel Name</th>\n      <th>Hotel Rating</th>\n    </tr>\n  </thead>\n  <tbody>\n    <tr>\n      <th>26</th>\n      <td>Guerrero Negro</td>\n      <td>27.98</td>\n      <td>-114.06</td>\n      <td>68.18</td>\n      <td>59</td>\n      <td>0</td>\n      <td>8.59</td>\n      <td>MX</td>\n      <td>2020-11-13 10:43:14</td>\n      <td></td>\n      <td></td>\n    </tr>\n    <tr>\n      <th>63</th>\n      <td>Saint-Philippe</td>\n      <td>-21.36</td>\n      <td>55.77</td>\n      <td>77.00</td>\n      <td>78</td>\n      <td>0</td>\n      <td>3.36</td>\n      <td>RE</td>\n      <td>2020-11-13 10:41:48</td>\n      <td></td>\n      <td></td>\n    </tr>\n    <tr>\n      <th>69</th>\n      <td>Porbandar</td>\n      <td>21.64</td>\n      <td>69.61</td>\n      <td>80.08</td>\n      <td>43</td>\n      <td>0</td>\n      <td>9.19</td>\n      <td>IN</td>\n      <td>2020-11-13 10:44:48</td>\n      <td></td>\n      <td></td>\n    </tr>\n    <tr>\n      <th>89</th>\n      <td>Moranbah</td>\n      <td>-22.00</td>\n      <td>148.05</td>\n      <td>71.53</td>\n      <td>79</td>\n      <td>0</td>\n      <td>7.90</td>\n      <td>AU</td>\n      <td>2020-11-13 10:45:34</td>\n      <td></td>\n      <td></td>\n    </tr>\n    <tr>\n      <th>111</th>\n      <td>Najrān</td>\n      <td>17.49</td>\n      <td>44.13</td>\n      <td>75.20</td>\n      <td>29</td>\n      <td>0</td>\n      <td>3.60</td>\n      <td>SA</td>\n      <td>2020-11-13 10:46:24</td>\n      <td></td>\n      <td></td>\n    </tr>\n  </tbody>\n</table>\n</div>"
     },
     "metadata": {},
     "execution_count": 6
    }
   ],
   "source": [
    "# Create two empty columns to store Hotel Data gathered from API Call\n",
    "filtered_temp_df['Hotel Name'] = '' \n",
    "filtered_temp_df['Hotel Rating'] = '' \n",
    "filtered_temp_df.head()"
   ]
  },
  {
   "cell_type": "code",
   "execution_count": 7,
   "metadata": {},
   "outputs": [
    {
     "output_type": "stream",
     "name": "stdout",
     "text": [
      "No hotel nearby Najrān... skipping.\n",
      "No hotel nearby Araouane... skipping.\n",
      "No hotel nearby Ocós... skipping.\n",
      "No hotel nearby Bilma... skipping.\n",
      "No hotel nearby Dicabisagan... skipping.\n"
     ]
    }
   ],
   "source": [
    "# Store all cities from dataframe\n",
    "cities = filtered_temp_df['City']\n",
    "\n",
    "# Loop through the city list for Latitude and Longitude values and build parameters to pass to API call\n",
    "for city in cities: \n",
    "    lat = filtered_temp_df.loc[filtered_temp_df['City'] == city, 'City Latitude'].values[0]\n",
    "    lon = filtered_temp_df.loc[filtered_temp_df['City'] == city, 'City Longitude'].values[0]\n",
    "    criteria = \"Hotel\"\n",
    "    coords = f\"{lat},{lon}\"\n",
    "    radius = 5000\n",
    "    params = {\n",
    "    \"location\": coords,\n",
    "    \"keyword\": criteria,\n",
    "    \"radius\": radius,\n",
    "    \"key\": gkey\n",
    "    }\n",
    "    \n",
    "    # Build URL using the Google Maps API\n",
    "    base_url = \"https://maps.googleapis.com/maps/api/place/nearbysearch/json\"\n",
    "\n",
    "    # Run request\n",
    "    hotel_info = rq.get(base_url, params).json()\n",
    "\n",
    "    try:\n",
    "        filtered_temp_df.loc[filtered_temp_df['City'] == city, 'Hotel Name'] = hotel_info[\"results\"][0]['name']\n",
    "        filtered_temp_df.loc[filtered_temp_df['City'] == city, 'Hotel Rating'] = hotel_info[\"results\"][0]['rating']\n",
    "    except:\n",
    "        print(f'No hotel nearby {city}... skipping.')\n",
    "    #pprint(hotel_info[\"results\"])"
   ]
  },
  {
   "cell_type": "code",
   "execution_count": 8,
   "metadata": {},
   "outputs": [
    {
     "output_type": "execute_result",
     "data": {
      "text/plain": [
       "               City  City Latitude  City Longitude  Max Temperature  Humidity  \\\n",
       "26   Guerrero Negro          27.98         -114.06            68.18        59   \n",
       "63   Saint-Philippe         -21.36           55.77            77.00        78   \n",
       "69        Porbandar          21.64           69.61            80.08        43   \n",
       "89         Moranbah         -22.00          148.05            71.53        79   \n",
       "111          Najrān          17.49           44.13            75.20        29   \n",
       "117        Araouane          18.90           -3.53            86.20        13   \n",
       "133          Faanui         -16.48         -151.75            79.21        75   \n",
       "149          Yulara         -25.24          130.99            73.40        20   \n",
       "184    Saint-Joseph         -21.37           55.62            77.00        78   \n",
       "189      Oudtshoorn         -33.59           22.20            71.60        49   \n",
       "\n",
       "     Cloud Coverage  Wind Speed City Country        City DateTime  \\\n",
       "26                0        8.59           MX  2020-11-13 10:43:14   \n",
       "63                0        3.36           RE  2020-11-13 10:41:48   \n",
       "69                0        9.19           IN  2020-11-13 10:44:48   \n",
       "89                0        7.90           AU  2020-11-13 10:45:34   \n",
       "111               0        3.60           SA  2020-11-13 10:46:24   \n",
       "117               0        5.88           ML  2020-11-13 10:46:37   \n",
       "133               0        8.21           PF  2020-11-13 10:41:42   \n",
       "149               0        5.82           AU  2020-11-13 10:47:48   \n",
       "184               0        3.36           RE  2020-11-13 10:49:07   \n",
       "189               0        6.93           ZA  2020-11-13 10:49:18   \n",
       "\n",
       "                                            Hotel Name Hotel Rating  \n",
       "26                                     The Halfway Inn          4.1  \n",
       "63                                Les Embruns Du Baril          3.6  \n",
       "69                                 Lords Inn Porbandar          4.2  \n",
       "89                   Direct Hotels - Monterey Moranbah          4.8  \n",
       "111                                                                  \n",
       "117                                                                  \n",
       "133     InterContinental Bora Bora Resort Thalasso Spa          4.7  \n",
       "149                                  Ayers Rock Resort            4  \n",
       "184                                        Terre Rouge            5  \n",
       "189  Protea Hotel by Marriott Oudtshoorn Riempie Es...          4.4  "
      ],
      "text/html": "<div>\n<style scoped>\n    .dataframe tbody tr th:only-of-type {\n        vertical-align: middle;\n    }\n\n    .dataframe tbody tr th {\n        vertical-align: top;\n    }\n\n    .dataframe thead th {\n        text-align: right;\n    }\n</style>\n<table border=\"1\" class=\"dataframe\">\n  <thead>\n    <tr style=\"text-align: right;\">\n      <th></th>\n      <th>City</th>\n      <th>City Latitude</th>\n      <th>City Longitude</th>\n      <th>Max Temperature</th>\n      <th>Humidity</th>\n      <th>Cloud Coverage</th>\n      <th>Wind Speed</th>\n      <th>City Country</th>\n      <th>City DateTime</th>\n      <th>Hotel Name</th>\n      <th>Hotel Rating</th>\n    </tr>\n  </thead>\n  <tbody>\n    <tr>\n      <th>26</th>\n      <td>Guerrero Negro</td>\n      <td>27.98</td>\n      <td>-114.06</td>\n      <td>68.18</td>\n      <td>59</td>\n      <td>0</td>\n      <td>8.59</td>\n      <td>MX</td>\n      <td>2020-11-13 10:43:14</td>\n      <td>The Halfway Inn</td>\n      <td>4.1</td>\n    </tr>\n    <tr>\n      <th>63</th>\n      <td>Saint-Philippe</td>\n      <td>-21.36</td>\n      <td>55.77</td>\n      <td>77.00</td>\n      <td>78</td>\n      <td>0</td>\n      <td>3.36</td>\n      <td>RE</td>\n      <td>2020-11-13 10:41:48</td>\n      <td>Les Embruns Du Baril</td>\n      <td>3.6</td>\n    </tr>\n    <tr>\n      <th>69</th>\n      <td>Porbandar</td>\n      <td>21.64</td>\n      <td>69.61</td>\n      <td>80.08</td>\n      <td>43</td>\n      <td>0</td>\n      <td>9.19</td>\n      <td>IN</td>\n      <td>2020-11-13 10:44:48</td>\n      <td>Lords Inn Porbandar</td>\n      <td>4.2</td>\n    </tr>\n    <tr>\n      <th>89</th>\n      <td>Moranbah</td>\n      <td>-22.00</td>\n      <td>148.05</td>\n      <td>71.53</td>\n      <td>79</td>\n      <td>0</td>\n      <td>7.90</td>\n      <td>AU</td>\n      <td>2020-11-13 10:45:34</td>\n      <td>Direct Hotels - Monterey Moranbah</td>\n      <td>4.8</td>\n    </tr>\n    <tr>\n      <th>111</th>\n      <td>Najrān</td>\n      <td>17.49</td>\n      <td>44.13</td>\n      <td>75.20</td>\n      <td>29</td>\n      <td>0</td>\n      <td>3.60</td>\n      <td>SA</td>\n      <td>2020-11-13 10:46:24</td>\n      <td></td>\n      <td></td>\n    </tr>\n    <tr>\n      <th>117</th>\n      <td>Araouane</td>\n      <td>18.90</td>\n      <td>-3.53</td>\n      <td>86.20</td>\n      <td>13</td>\n      <td>0</td>\n      <td>5.88</td>\n      <td>ML</td>\n      <td>2020-11-13 10:46:37</td>\n      <td></td>\n      <td></td>\n    </tr>\n    <tr>\n      <th>133</th>\n      <td>Faanui</td>\n      <td>-16.48</td>\n      <td>-151.75</td>\n      <td>79.21</td>\n      <td>75</td>\n      <td>0</td>\n      <td>8.21</td>\n      <td>PF</td>\n      <td>2020-11-13 10:41:42</td>\n      <td>InterContinental Bora Bora Resort Thalasso Spa</td>\n      <td>4.7</td>\n    </tr>\n    <tr>\n      <th>149</th>\n      <td>Yulara</td>\n      <td>-25.24</td>\n      <td>130.99</td>\n      <td>73.40</td>\n      <td>20</td>\n      <td>0</td>\n      <td>5.82</td>\n      <td>AU</td>\n      <td>2020-11-13 10:47:48</td>\n      <td>Ayers Rock Resort</td>\n      <td>4</td>\n    </tr>\n    <tr>\n      <th>184</th>\n      <td>Saint-Joseph</td>\n      <td>-21.37</td>\n      <td>55.62</td>\n      <td>77.00</td>\n      <td>78</td>\n      <td>0</td>\n      <td>3.36</td>\n      <td>RE</td>\n      <td>2020-11-13 10:49:07</td>\n      <td>Terre Rouge</td>\n      <td>5</td>\n    </tr>\n    <tr>\n      <th>189</th>\n      <td>Oudtshoorn</td>\n      <td>-33.59</td>\n      <td>22.20</td>\n      <td>71.60</td>\n      <td>49</td>\n      <td>0</td>\n      <td>6.93</td>\n      <td>ZA</td>\n      <td>2020-11-13 10:49:18</td>\n      <td>Protea Hotel by Marriott Oudtshoorn Riempie Es...</td>\n      <td>4.4</td>\n    </tr>\n  </tbody>\n</table>\n</div>"
     },
     "metadata": {},
     "execution_count": 8
    }
   ],
   "source": [
    "# Select the first 10 rows for map display\n",
    "filtered_temp_df = filtered_temp_df.head(10)\n",
    "filtered_temp_df"
   ]
  },
  {
   "cell_type": "code",
   "execution_count": 9,
   "metadata": {},
   "outputs": [
    {
     "output_type": "display_data",
     "data": {
      "text/plain": "Figure(layout=FigureLayout(height='420px', margin='0 auto 0 auto', width='1050px'))",
      "application/vnd.jupyter.widget-view+json": {
       "version_major": 2,
       "version_minor": 0,
       "model_id": "d993cd9ef5854021a1fc972d82687930"
      }
     },
     "metadata": {}
    }
   ],
   "source": [
    "# Store coordinates and humidity from dataframe\n",
    "locations = filtered_temp_df[[\"City Latitude\", \"City Longitude\"]]\n",
    "humidity = filtered_temp_df[\"Humidity\"]\n",
    "\n",
    "# Create a Description List Element to store information for clickable pin info\n",
    "info_box_template = \"\"\"\n",
    "<dl>\n",
    "<dt>City</dt>\n",
    "<dd>{City}</dd>\n",
    "\n",
    "<dt>Country</dt>\n",
    "<dd>{City Country}</dd>\n",
    "\n",
    "<dt>Hotel Name</dt>\n",
    "<dd>{Hotel Name}</dd>\n",
    "\n",
    "<dt>Rating</dt>\n",
    "<dd>{Hotel Rating}</dd>\n",
    "</dl>\n",
    "\"\"\"\n",
    "\n",
    "# Added feature for data for Hotel rating hoverable\n",
    "rating_template = \"\"\"Hotel Rating: {Hotel Rating}\"\"\"\n",
    "\n",
    "# Plot Heatmap\n",
    "fig = gmaps.figure(center=zero_coor,zoom_level=2,layout=figure_layout,map_type=\"TERRAIN\")\n",
    "\n",
    "marker = filtered_temp_df[['City Latitude','City Longitude']] \n",
    "\n",
    "# Create heat layer\n",
    "heat_layer = gmaps.heatmap_layer(locations, weights=humidity)\n",
    "\n",
    "info = [info_box_template.format(**row) for index, row in filtered_temp_df.iterrows()]\n",
    "rating = [rating_template.format(**row) for index, row in filtered_temp_df.iterrows()]\n",
    "# Add layer\n",
    "markers = gmaps.marker_layer(marker,info_box_content=info, hover_text=rating)\n",
    "fig.add_layer(markers)\n",
    "fig.add_layer(heat_layer)\n",
    "\n",
    "# Display figure\n",
    "fig"
   ]
  },
  {
   "cell_type": "code",
   "execution_count": 10,
   "metadata": {},
   "outputs": [],
   "source": [
    "#%reset"
   ]
  },
  {
   "cell_type": "code",
   "execution_count": null,
   "metadata": {},
   "outputs": [],
   "source": []
  }
 ]
}