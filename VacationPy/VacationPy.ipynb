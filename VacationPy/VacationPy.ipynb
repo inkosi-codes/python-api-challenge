{
 "metadata": {
  "language_info": {
   "codemirror_mode": {
    "name": "ipython",
    "version": 3
   },
   "file_extension": ".py",
   "mimetype": "text/x-python",
   "name": "python",
   "nbconvert_exporter": "python",
   "pygments_lexer": "ipython3",
   "version": "3.8.3-final"
  },
  "orig_nbformat": 2,
  "kernelspec": {
   "name": "python3",
   "display_name": "Python 3"
  }
 },
 "nbformat": 4,
 "nbformat_minor": 2,
 "cells": [
  {
   "cell_type": "code",
   "execution_count": 2,
   "metadata": {},
   "outputs": [],
   "source": [
    "# Dependencies and Setup\n",
    "import matplotlib.pyplot as plt\n",
    "import pandas as pd\n",
    "import gmaps\n",
    "import requests as rq\n",
    "\n",
    "# Import API key\n",
    "import config\n",
    "\n",
    "# Configure gmaps\n",
    "gkey = config.gkey\n",
    "gmaps.configure(api_key=gkey)"
   ]
  },
  {
   "cell_type": "code",
   "execution_count": 10,
   "metadata": {},
   "outputs": [
    {
     "output_type": "execute_result",
     "data": {
      "text/plain": [
       "          City  City Latitude  City Longitude  Max Temperature  Humidity  \\\n",
       "0       Torbay          47.67          -52.73            44.01        74   \n",
       "1     Hermanus         -34.42           19.23            66.00        79   \n",
       "2  Yellowknife          62.46         -114.35             8.60        92   \n",
       "3    Cape Town         -33.93           18.42            75.00        68   \n",
       "4    Grindavik          63.84          -22.43            37.40        86   \n",
       "\n",
       "   Cloud Coverage  Wind Speed City Country        City DateTime  \n",
       "0              75       16.11           CA  2020-11-13 10:41:31  \n",
       "1              91        5.01           ZA  2020-11-13 10:40:52  \n",
       "2              75        8.05           CA  2020-11-13 10:42:21  \n",
       "3               0       17.22           ZA  2020-11-13 10:41:38  \n",
       "4              75       17.22           IS  2020-11-13 10:41:49  "
      ],
      "text/html": "<div>\n<style scoped>\n    .dataframe tbody tr th:only-of-type {\n        vertical-align: middle;\n    }\n\n    .dataframe tbody tr th {\n        vertical-align: top;\n    }\n\n    .dataframe thead th {\n        text-align: right;\n    }\n</style>\n<table border=\"1\" class=\"dataframe\">\n  <thead>\n    <tr style=\"text-align: right;\">\n      <th></th>\n      <th>City</th>\n      <th>City Latitude</th>\n      <th>City Longitude</th>\n      <th>Max Temperature</th>\n      <th>Humidity</th>\n      <th>Cloud Coverage</th>\n      <th>Wind Speed</th>\n      <th>City Country</th>\n      <th>City DateTime</th>\n    </tr>\n  </thead>\n  <tbody>\n    <tr>\n      <th>0</th>\n      <td>Torbay</td>\n      <td>47.67</td>\n      <td>-52.73</td>\n      <td>44.01</td>\n      <td>74</td>\n      <td>75</td>\n      <td>16.11</td>\n      <td>CA</td>\n      <td>2020-11-13 10:41:31</td>\n    </tr>\n    <tr>\n      <th>1</th>\n      <td>Hermanus</td>\n      <td>-34.42</td>\n      <td>19.23</td>\n      <td>66.00</td>\n      <td>79</td>\n      <td>91</td>\n      <td>5.01</td>\n      <td>ZA</td>\n      <td>2020-11-13 10:40:52</td>\n    </tr>\n    <tr>\n      <th>2</th>\n      <td>Yellowknife</td>\n      <td>62.46</td>\n      <td>-114.35</td>\n      <td>8.60</td>\n      <td>92</td>\n      <td>75</td>\n      <td>8.05</td>\n      <td>CA</td>\n      <td>2020-11-13 10:42:21</td>\n    </tr>\n    <tr>\n      <th>3</th>\n      <td>Cape Town</td>\n      <td>-33.93</td>\n      <td>18.42</td>\n      <td>75.00</td>\n      <td>68</td>\n      <td>0</td>\n      <td>17.22</td>\n      <td>ZA</td>\n      <td>2020-11-13 10:41:38</td>\n    </tr>\n    <tr>\n      <th>4</th>\n      <td>Grindavik</td>\n      <td>63.84</td>\n      <td>-22.43</td>\n      <td>37.40</td>\n      <td>86</td>\n      <td>75</td>\n      <td>17.22</td>\n      <td>IS</td>\n      <td>2020-11-13 10:41:49</td>\n    </tr>\n  </tbody>\n</table>\n</div>"
     },
     "metadata": {},
     "execution_count": 10
    }
   ],
   "source": [
    "# Create aiport dataframe\n",
    "cities_df = pd.read_csv('Resources//weather_data.csv')\n",
    "cities_df.dropna(inplace = True) \n",
    "cities_df.head()"
   ]
  },
  {
   "cell_type": "code",
   "execution_count": 12,
   "metadata": {},
   "outputs": [],
   "source": [
    "# Store latitude and longitude in locations\n",
    "locations = cities_df[[\"City Latitude\", \"City Longitude\"]]\n",
    "humidity = cities_df[\"Humidity\"]"
   ]
  },
  {
   "cell_type": "code",
   "execution_count": 51,
   "metadata": {},
   "outputs": [
    {
     "output_type": "display_data",
     "data": {
      "text/plain": "Figure(layout=FigureLayout(height='420px', margin='0 auto 0 auto', width='1050px'))",
      "application/vnd.jupyter.widget-view+json": {
       "version_major": 2,
       "version_minor": 0,
       "model_id": "c39678d3c71e44d4b011ffa8a9d131b8"
      }
     },
     "metadata": {}
    }
   ],
   "source": [
    "zero_coor = (33.93,18.42)\n",
    "figure_layout = {'width': '1050px', 'margin': '0 auto 0 auto'}\n",
    "# Plot Heatmap\n",
    "fig = gmaps.figure(center=zero_coor,zoom_level=2,layout=figure_layout,map_type=\"TERRAIN\")\n",
    "\n",
    "# Create heat layer\n",
    "heat_layer = gmaps.heatmap_layer(locations, weights=humidity, \n",
    "                                 dissipating=False, max_intensity=20,\n",
    "                                 point_radius=2.0)\n",
    "\n",
    "# Add layer\n",
    "fig.add_layer(heat_layer)\n",
    "\n",
    "# Display figure\n",
    "fig"
   ]
  },
  {
   "cell_type": "code",
   "execution_count": 46,
   "metadata": {},
   "outputs": [
    {
     "output_type": "execute_result",
     "data": {
      "text/plain": [
       "       City Latitude  City Longitude  Max Temperature   Humidity  \\\n",
       "count      61.000000       61.000000        61.000000  61.000000   \n",
       "mean        4.240492       24.346230        76.316393  60.163934   \n",
       "std        22.263260       78.787535         6.769721  21.181108   \n",
       "min       -34.040000     -151.750000        65.370000  13.000000   \n",
       "25%       -19.980000      -15.540000        69.800000  48.000000   \n",
       "50%        12.220000       40.210000        76.440000  62.000000   \n",
       "75%        21.640000       59.530000        81.090000  78.000000   \n",
       "max        36.370000      153.570000        88.700000  94.000000   \n",
       "\n",
       "       Cloud Coverage  Wind Speed  \n",
       "count       61.000000   61.000000  \n",
       "mean         3.245902    5.639672  \n",
       "std          5.058510    2.261419  \n",
       "min          0.000000    1.010000  \n",
       "25%          0.000000    3.710000  \n",
       "50%          0.000000    5.820000  \n",
       "75%          4.000000    7.290000  \n",
       "max         19.000000    9.800000  "
      ],
      "text/html": "<div>\n<style scoped>\n    .dataframe tbody tr th:only-of-type {\n        vertical-align: middle;\n    }\n\n    .dataframe tbody tr th {\n        vertical-align: top;\n    }\n\n    .dataframe thead th {\n        text-align: right;\n    }\n</style>\n<table border=\"1\" class=\"dataframe\">\n  <thead>\n    <tr style=\"text-align: right;\">\n      <th></th>\n      <th>City Latitude</th>\n      <th>City Longitude</th>\n      <th>Max Temperature</th>\n      <th>Humidity</th>\n      <th>Cloud Coverage</th>\n      <th>Wind Speed</th>\n    </tr>\n  </thead>\n  <tbody>\n    <tr>\n      <th>count</th>\n      <td>61.000000</td>\n      <td>61.000000</td>\n      <td>61.000000</td>\n      <td>61.000000</td>\n      <td>61.000000</td>\n      <td>61.000000</td>\n    </tr>\n    <tr>\n      <th>mean</th>\n      <td>4.240492</td>\n      <td>24.346230</td>\n      <td>76.316393</td>\n      <td>60.163934</td>\n      <td>3.245902</td>\n      <td>5.639672</td>\n    </tr>\n    <tr>\n      <th>std</th>\n      <td>22.263260</td>\n      <td>78.787535</td>\n      <td>6.769721</td>\n      <td>21.181108</td>\n      <td>5.058510</td>\n      <td>2.261419</td>\n    </tr>\n    <tr>\n      <th>min</th>\n      <td>-34.040000</td>\n      <td>-151.750000</td>\n      <td>65.370000</td>\n      <td>13.000000</td>\n      <td>0.000000</td>\n      <td>1.010000</td>\n    </tr>\n    <tr>\n      <th>25%</th>\n      <td>-19.980000</td>\n      <td>-15.540000</td>\n      <td>69.800000</td>\n      <td>48.000000</td>\n      <td>0.000000</td>\n      <td>3.710000</td>\n    </tr>\n    <tr>\n      <th>50%</th>\n      <td>12.220000</td>\n      <td>40.210000</td>\n      <td>76.440000</td>\n      <td>62.000000</td>\n      <td>0.000000</td>\n      <td>5.820000</td>\n    </tr>\n    <tr>\n      <th>75%</th>\n      <td>21.640000</td>\n      <td>59.530000</td>\n      <td>81.090000</td>\n      <td>78.000000</td>\n      <td>4.000000</td>\n      <td>7.290000</td>\n    </tr>\n    <tr>\n      <th>max</th>\n      <td>36.370000</td>\n      <td>153.570000</td>\n      <td>88.700000</td>\n      <td>94.000000</td>\n      <td>19.000000</td>\n      <td>9.800000</td>\n    </tr>\n  </tbody>\n</table>\n</div>"
     },
     "metadata": {},
     "execution_count": 46
    }
   ],
   "source": [
    "filtered_temp_df = cities_df.loc[(cities_df['Max Temperature'] < 90) & (cities_df['Max Temperature'] >= 65) & (cities_df['Wind Speed'] < 10) & (cities_df['Cloud Coverage'] < 20)]\n",
    "filtered_temp_df.describe()"
   ]
  },
  {
   "cell_type": "code",
   "execution_count": 50,
   "metadata": {},
   "outputs": [
    {
     "output_type": "execute_result",
     "data": {
      "text/plain": [
       "              City  City Latitude  City Longitude  Max Temperature  Humidity  \\\n",
       "5     Kruisfontein         -34.00           24.73            80.01        60   \n",
       "26  Guerrero Negro          27.98         -114.06            68.18        59   \n",
       "28           Tabou           4.42           -7.35            81.09        80   \n",
       "63  Saint-Philippe         -21.36           55.77            77.00        78   \n",
       "69       Porbandar          21.64           69.61            80.08        43   \n",
       "\n",
       "    Cloud Coverage  Wind Speed City Country        City DateTime  \n",
       "5                7        5.99           ZA  2020-11-13 10:41:28  \n",
       "26               0        8.59           MX  2020-11-13 10:43:14  \n",
       "28              12        6.26           CI  2020-11-13 10:43:18  \n",
       "63               0        3.36           RE  2020-11-13 10:41:48  \n",
       "69               0        9.19           IN  2020-11-13 10:44:48  "
      ],
      "text/html": "<div>\n<style scoped>\n    .dataframe tbody tr th:only-of-type {\n        vertical-align: middle;\n    }\n\n    .dataframe tbody tr th {\n        vertical-align: top;\n    }\n\n    .dataframe thead th {\n        text-align: right;\n    }\n</style>\n<table border=\"1\" class=\"dataframe\">\n  <thead>\n    <tr style=\"text-align: right;\">\n      <th></th>\n      <th>City</th>\n      <th>City Latitude</th>\n      <th>City Longitude</th>\n      <th>Max Temperature</th>\n      <th>Humidity</th>\n      <th>Cloud Coverage</th>\n      <th>Wind Speed</th>\n      <th>City Country</th>\n      <th>City DateTime</th>\n    </tr>\n  </thead>\n  <tbody>\n    <tr>\n      <th>5</th>\n      <td>Kruisfontein</td>\n      <td>-34.00</td>\n      <td>24.73</td>\n      <td>80.01</td>\n      <td>60</td>\n      <td>7</td>\n      <td>5.99</td>\n      <td>ZA</td>\n      <td>2020-11-13 10:41:28</td>\n    </tr>\n    <tr>\n      <th>26</th>\n      <td>Guerrero Negro</td>\n      <td>27.98</td>\n      <td>-114.06</td>\n      <td>68.18</td>\n      <td>59</td>\n      <td>0</td>\n      <td>8.59</td>\n      <td>MX</td>\n      <td>2020-11-13 10:43:14</td>\n    </tr>\n    <tr>\n      <th>28</th>\n      <td>Tabou</td>\n      <td>4.42</td>\n      <td>-7.35</td>\n      <td>81.09</td>\n      <td>80</td>\n      <td>12</td>\n      <td>6.26</td>\n      <td>CI</td>\n      <td>2020-11-13 10:43:18</td>\n    </tr>\n    <tr>\n      <th>63</th>\n      <td>Saint-Philippe</td>\n      <td>-21.36</td>\n      <td>55.77</td>\n      <td>77.00</td>\n      <td>78</td>\n      <td>0</td>\n      <td>3.36</td>\n      <td>RE</td>\n      <td>2020-11-13 10:41:48</td>\n    </tr>\n    <tr>\n      <th>69</th>\n      <td>Porbandar</td>\n      <td>21.64</td>\n      <td>69.61</td>\n      <td>80.08</td>\n      <td>43</td>\n      <td>0</td>\n      <td>9.19</td>\n      <td>IN</td>\n      <td>2020-11-13 10:44:48</td>\n    </tr>\n  </tbody>\n</table>\n</div>"
     },
     "metadata": {},
     "execution_count": 50
    }
   ],
   "source": [
    "filtered_temp_df.head()"
   ]
  },
  {
   "cell_type": "code",
   "execution_count": null,
   "metadata": {},
   "outputs": [],
   "source": [
    "for city in filtered_temp_df: \n",
    "    lat = filtered_temp_df.loc[filtered_temp_df['City'] == city,'City Latitude'] \n",
    "    lng = filtered_temp_df.loc[filtered_temp_df['City'] == city, 'City Longitude']  \n",
    "    criteria = \"Hotel\"\n",
    "    coords = (lat, lng)\n",
    "    radius = 5000\n",
    "\n",
    "    params = {\n",
    "    \"location\": coords,\n",
    "    \"keyword\": criteria,\n",
    "    \"radius\": radius,\n",
    "    \"key\": gkey\n",
    "    }\n",
    "    # Build URL using the Google Maps API\n",
    "    base_url = \"https://maps.googleapis.com/maps/api/place/nearbysearch/json\""
   ]
  },
  {
   "cell_type": "code",
   "execution_count": null,
   "metadata": {},
   "outputs": [],
   "source": [
    "# Plot Heatmap\n",
    "fig = gmaps.figure(center=zero_coor,zoom_level=2,layout=figure_layout,map_type=\"TERRAIN\")\n",
    "\n",
    "# Create heat layer\n",
    "heat_layer = gmaps.heatmap_layer(locations, weights=humidity, \n",
    "                                 dissipating=False, max_intensity=20,\n",
    "                                 point_radius=2.0)\n",
    "\n",
    "# Add layer\n",
    "fig.add_layer(heat_layer)\n",
    "\n",
    "# Display figure\n",
    "fig"
   ]
  }
 ]
}