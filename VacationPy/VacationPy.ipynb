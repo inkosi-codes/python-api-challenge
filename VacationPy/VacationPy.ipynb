{
 "metadata": {
  "language_info": {
   "codemirror_mode": {
    "name": "ipython",
    "version": 3
   },
   "file_extension": ".py",
   "mimetype": "text/x-python",
   "name": "python",
   "nbconvert_exporter": "python",
   "pygments_lexer": "ipython3",
   "version": "3.8.3-final"
  },
  "orig_nbformat": 2,
  "kernelspec": {
   "name": "python3",
   "display_name": "Python 3"
  }
 },
 "nbformat": 4,
 "nbformat_minor": 2,
 "cells": [
  {
   "cell_type": "code",
   "execution_count": null,
   "metadata": {},
   "outputs": [],
   "source": [
    "# Dependencies and Setup\n",
    "import matplotlib.pyplot as plt\n",
    "import pandas as pd\n",
    "import gmaps\n",
    "import requests as rq\n",
    "\n",
    "# Import API key\n",
    "import config\n",
    "\n",
    "# Configure gmaps\n",
    "gkey = config.gkey\n",
    "gmaps.configure(api_key=gkey)"
   ]
  },
  {
   "cell_type": "code",
   "execution_count": null,
   "metadata": {},
   "outputs": [],
   "source": [
    "# Create aiport dataframe\n",
    "cities_df = pd.read_csv('Resources//weather_data.csv')\n",
    "cities_df.dropna(inplace = True) \n",
    "cities_df.head()"
   ]
  },
  {
   "cell_type": "code",
   "execution_count": null,
   "metadata": {},
   "outputs": [],
   "source": [
    "# Store latitude and longitude in locations\n",
    "locations = cities_df[[\"City Latitude\", \"City Longitude\"]]\n",
    "humidity = cities_df[\"Humidity\"]"
   ]
  },
  {
   "cell_type": "code",
   "execution_count": null,
   "metadata": {},
   "outputs": [],
   "source": [
    "zero_coor = (33.93,18.42)\n",
    "figure_layout = {'width': '1050px', 'margin': '0 auto 0 auto'}\n",
    "# Plot Heatmap\n",
    "fig = gmaps.figure(center=zero_coor,zoom_level=2,layout=figure_layout,map_type=\"TERRAIN\")\n",
    "\n",
    "# Create heat layer\n",
    "heat_layer = gmaps.heatmap_layer(locations, weights=humidity, \n",
    "                                 dissipating=False, max_intensity=20,\n",
    "                                 point_radius=2.0)\n",
    "\n",
    "# Add layer\n",
    "fig.add_layer(heat_layer)\n",
    "\n",
    "# Display figure\n",
    "fig"
   ]
  },
  {
   "cell_type": "code",
   "execution_count": null,
   "metadata": {},
   "outputs": [],
   "source": [
    "filtered_temp_df = cities_df.loc[(cities_df['Max Temperature'] < 85) & (cities_df['Max Temperature'] >= 65) & (cities_df['Wind Speed'] < 10) & (cities_df['Cloud Coverage'] < 0)]\n",
    "filtered_temp_df.describe()"
   ]
  },
  {
   "cell_type": "code",
   "execution_count": null,
   "metadata": {},
   "outputs": [],
   "source": [
    "filtered_temp_df.head()"
   ]
  },
  {
   "cell_type": "code",
   "execution_count": null,
   "metadata": {},
   "outputs": [],
   "source": [
    "for city in filtered_temp_df: \n",
    "    lat = filtered_temp_df.loc[filtered_temp_df['City'] == city,'City Latitude'] \n",
    "    lng = filtered_temp_df.loc[filtered_temp_df['City'] == city, 'City Longitude']  \n",
    "    criteria = \"Hotel\"\n",
    "    coords = (lat, lng)\n",
    "    radius = 5000\n",
    "\n",
    "    params = {\n",
    "    \"location\": coords,\n",
    "    \"keyword\": criteria,\n",
    "    \"radius\": radius,\n",
    "    \"key\": gkey\n",
    "    }\n",
    "    # Build URL using the Google Maps API\n",
    "    base_url = \"https://maps.googleapis.com/maps/api/place/nearbysearch/json\""
   ]
  },
  {
   "cell_type": "code",
   "execution_count": null,
   "metadata": {},
   "outputs": [],
   "source": [
    "locations = filtered_temp_df[[\"City Latitude\", \"City Longitude\"]]\n",
    "humidity = filtered_temp_df[\"Humidity\"]\n",
    "\n",
    "# Plot Heatmap\n",
    "fig = gmaps.figure(center=zero_coor,zoom_level=2,layout=figure_layout,map_type=\"TERRAIN\")\n",
    "\n",
    "lat = filtered_temp_df['City Latitude'] \n",
    "lng = filtered_temp_df['City Longitude'] \n",
    "\n",
    "marker = filtered_temp_df[['City Latitude','City Longitude']] \n",
    "\n",
    "# Create heat layer\n",
    "heat_layer = gmaps.heatmap_layer(locations, weights=humidity, \n",
    "                                 dissipating=False, max_intensity=20,\n",
    "                                 point_radius=2.0)\n",
    "\n",
    "# Add layer\n",
    "markers = gmaps.marker_layer(marker)\n",
    "fig.add_layer(markers)\n",
    "fig.add_layer(heat_layer)\n",
    "\n",
    "# Display figure\n",
    "fig"
   ]
  },
  {
   "cell_type": "code",
   "execution_count": null,
   "metadata": {},
   "outputs": [],
   "source": [
    "%reset"
   ]
  },
  {
   "cell_type": "code",
   "execution_count": null,
   "metadata": {},
   "outputs": [],
   "source": []
  }
 ]
}