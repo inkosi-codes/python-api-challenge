{
 "metadata": {
  "language_info": {
   "codemirror_mode": {
    "name": "ipython",
    "version": 3
   },
   "file_extension": ".py",
   "mimetype": "text/x-python",
   "name": "python",
   "nbconvert_exporter": "python",
   "pygments_lexer": "ipython3",
   "version": "3.8.6-final"
  },
  "orig_nbformat": 2,
  "kernelspec": {
   "name": "Python 3.8.6 64-bit",
   "display_name": "Python 3.8.6 64-bit",
   "metadata": {
    "interpreter": {
     "hash": "c2316e4715708642abe7c846478028027e1ce27bd63622a3ee2c35bd906806a9"
    }
   }
  }
 },
 "nbformat": 4,
 "nbformat_minor": 2,
 "cells": [
  {
   "cell_type": "code",
   "execution_count": 64,
   "metadata": {},
   "outputs": [],
   "source": [
    "# Dependencies and Setup\n",
    "import matplotlib.pyplot as plt\n",
    "import pandas as pd\n",
    "import numpy as np\n",
    "import requests as rq\n",
    "import random as rnd\n",
    "\n",
    "# Import API key\n",
    "import config\n",
    "\n",
    "# Import citypy to gather city locations\n",
    "from citipy import citipy"
   ]
  },
  {
   "cell_type": "code",
   "execution_count": 71,
   "metadata": {},
   "outputs": [
    {
     "output_type": "stream",
     "name": "stdout",
     "text": [
      "[]\n"
     ]
    }
   ],
   "source": [
    "city_list = []"
   ]
  },
  {
   "cell_type": "code",
   "execution_count": 72,
   "metadata": {},
   "outputs": [
    {
     "output_type": "stream",
     "name": "stdout",
     "text": [
      "['saleaula', 'hermanus', 'ketchikan', 'tsihombe', 'tunxi', 'hobart', 'mar del plata', 'paratinga', 'grindavik', 'gorele', 'andilamena', 'lompoc', 'marawi', 'college', 'tuktoyaktuk', 'kushima', 'leningradskiy', 'saint-francois', 'puerto ayora', 'ushuaia', 'kruisfontein', 'hornepayne', 'huntingdon', 'mataura', 'port elizabeth', 'bolshaya atnya', 'codrington', 'san quintin', 'souillac', 'asfi', 'faya', 'faanui', 'derzhavinsk', 'beringovskiy', 'torbay', 'kahului', 'katsiveli', 'amahai', 'saskylakh', 'atar', 'albany', 'zhanatas', 'yellowknife', 'airai', 'norman wells', 'iqaluit', 'takoradi', 'popondetta', 'skowhegan', 'nizhneyansk', 'tasiilaq', 'rungata', 'mys shmidta', 'hithadhoo', 'esperance', 'vaini', 'nikolskoye', 'macusani', 'mangrol', 'ust-charyshskaya pristan', 'georgetown', 'bilma', 'hilo', 'port hedland', 'brcko', 'kemijarvi', 'provideniya', 'barentsburg', 'petropavlovsk-kamchatskiy', 'bethel', 'tautira', 'punta arenas', 'touros', 'kenai', 'pangnirtung', 'cape town', 'zhigansk', 'samusu', 'kennett', 'hirna', 'port hardy', 'barrow', 'port lincoln', 'mahebourg', 'kashi', 'novokayakent', 'thompson', 'busselton', 'saint-philippe', 'warqla', 'bengkulu', 'honningsvag', 'castro', 'avera', 'bara', 'oranjestad', 'saint george', 'phan rang', 'avarua', 'upernavik', 'katherine', 'dubbo', 'bambous virieux', 'rockport', 'corinto', 'chokurdakh', 'marcona', 'cockburn town', 'zyryanka', 'ust-kulom', 'new norfolk', 'constitucion', 'butaritari', 'westport', 'shahr-e babak', 'doha', 'rikitea', 'makinsk', 'burica', 'acapulco', 'atuona', 'baykit', 'salina', 'manokwari', 'arraial do cabo', 'klaksvik', 'east london', 'north marysville', 'port macquarie', 'sao joao da barra', 'port alfred', 'vao', 'ayagoz', 'anori', 'nanortalik', 'newport', 'ancud', 'ulaanbaatar', 'labutta', 'barra dos coqueiros', 'khatanga', 'komsomolskiy', 'kaitangata', 'shalyhyne', 'kodiak', 'maarianhamina', 'amuntai', 'qaqortoq', 'taolanaro', 'krasnoselkup', 'jamestown', 'qaanaaq', 'camana', 'kapaa', 'bluff', 'drayton valley', 'karauzyak', 'pisco', 'sibolga', 'hualmay', 'nome', 'verkhnyaya inta', 'nelson bay', 'leh', 'cabo san lucas', 'richards bay', 'inhambane', 'kamenskoye', 'ust-kamchatsk', 'bredasdorp', 'morgan city', 'illoqqortoormiut', 'mathbaria', 'broome', 'de aar', 'vaitupu', 'carnarvon', 'lokosovo', 'lucea', 'ponta do sol', 'lazaro cardenas', 'cidreira', 'xinpu', 'harper', 'stromness', 'tommot', 'opuwo', 'huron', 'san jeronimo', 'darhan', 'iquitos', 'imbituba', 'wamba', 'sile', 'saint-augustin', 'abu kamal', 'la ronge', 'kavieng', 'mattru', 'lima', 'tessalit', 'tabou', 'dargaville', 'makakilo city', 'viligili', 'lamar', 'houma', 'forio', 'chapais', 'lashio', 'port blair', 'nyahururu', 'batagay-alyta', 'alta floresta', 'arawa', 'karratha', 'namatanai', 'ilulissat', 'emerald', 'necochea', 'peniche', 'baturinskaya', 'lagoa', 'coquimbo', 'sitka', 'hami', 'rawson', 'teya', 'padang', 'taoudenni', 'tura', 'karakendzha', 'tiksi', 'dikson', 'husavik', 'san patricio', 'shelburne', 'severo-kurilsk', 'yichang', 'praya', 'sao filipe', 'korla', 'kayerkan', 'champerico', 'amderma', 'zhanakorgan', 'talara', 'okato', 'lakes entrance', 'guerrero negro', 'kaeo', 'cherskiy', 'hasaki', 'norilsk', 'bergen', 'fairbanks', 'oktyabrskoye', 'cloquet', 'paamiut', 'miri', 'mabaruma', 'oktyabrskiy', 'katsuura', 'bontang', 'reno', 'victoria', 'kysyl-syr', 'martinsville', 'havelock', 'kununurra', 'ribeira grande', 'los aquijes', 'puerto cabezas', 'palmer', 'talagang', 'porbandar', 'manyana', 'belushya guba', 'lac-megantic', 'byron bay', 'sola', 'bandarbeyla', 'juba', 'normandin', 'palabuhanratu', 'pevek', 'pimentel', 'nouadhibou', 'zlatoustovsk', 'gornopravdinsk', 'batemans bay', 'clyde river', 'chuy', 'marzuq']\n"
     ]
    }
   ],
   "source": [
    "for x in range(500):\n",
    "    lat_value = round(rnd.uniform(-90, 90),2)\n",
    "    long_value = round(rnd.uniform(-180, 180),2)\n",
    "\n",
    "    city = citipy.nearest_city(lat_value,long_value)\n",
    "    if city.city_name not in city_list:\n",
    "        city_list.append(city.city_name)\n",
    "print(city_list)"
   ]
  },
  {
   "cell_type": "code",
   "execution_count": null,
   "metadata": {},
   "outputs": [],
   "source": []
  }
 ]
}